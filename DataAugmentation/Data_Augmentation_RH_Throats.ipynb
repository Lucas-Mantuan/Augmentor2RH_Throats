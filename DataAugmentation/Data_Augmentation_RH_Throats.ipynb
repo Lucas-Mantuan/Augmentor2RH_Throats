{
  "nbformat": 4,
  "nbformat_minor": 0,
  "metadata": {
    "colab": {
      "name": "Data_Augmentation_RH_Throats.ipynb",
      "provenance": []
    },
    "kernelspec": {
      "name": "python3",
      "display_name": "Python 3"
    },
    "language_info": {
      "name": "python"
    }
  },
  "cells": [
    {
      "cell_type": "code",
      "execution_count": null,
      "metadata": {
        "colab": {
          "base_uri": "https://localhost:8080/"
        },
        "id": "Qm6BDq4UQalo",
        "outputId": "14206391-96b1-4985-a2b7-621955f9113f"
      },
      "outputs": [
        {
          "output_type": "stream",
          "name": "stdout",
          "text": [
            "Looking in indexes: https://pypi.org/simple, https://us-python.pkg.dev/colab-wheels/public/simple/\n",
            "Collecting Augmentor\n",
            "  Downloading Augmentor-0.2.10-py2.py3-none-any.whl (38 kB)\n",
            "Requirement already satisfied: tqdm>=4.9.0 in /usr/local/lib/python3.7/dist-packages (from Augmentor) (4.64.0)\n",
            "Requirement already satisfied: Pillow>=5.2.0 in /usr/local/lib/python3.7/dist-packages (from Augmentor) (7.1.2)\n",
            "Requirement already satisfied: numpy>=1.11.0 in /usr/local/lib/python3.7/dist-packages (from Augmentor) (1.21.6)\n",
            "Requirement already satisfied: future>=0.16.0 in /usr/local/lib/python3.7/dist-packages (from Augmentor) (0.16.0)\n",
            "Installing collected packages: Augmentor\n",
            "Successfully installed Augmentor-0.2.10\n"
          ]
        }
      ],
      "source": [
        "!pip install Augmentor"
      ]
    },
    {
      "cell_type": "code",
      "source": [
        "import Augmentor\n",
        "#Images 980 x 1260\n",
        "p = Augmentor.Pipeline(\"/content/Images\")"
      ],
      "metadata": {
        "colab": {
          "base_uri": "https://localhost:8080/"
        },
        "id": "RYY636fzQn9-",
        "outputId": "c1ce1f88-9b4b-4167-c050-06f475b80746"
      },
      "execution_count": null,
      "outputs": [
        {
          "output_type": "stream",
          "name": "stdout",
          "text": [
            "Initialised with 4 image(s) found.\n",
            "Output directory set to /content/Images/output."
          ]
        }
      ]
    },
    {
      "cell_type": "code",
      "source": [
        "p.flip_top_bottom(probability=0.8)\n",
        "p.random_brightness(probability=0.8,min_factor=0.5,max_factor=0.8)\n",
        "p.random_distortion(probability=0.6,grid_width=4,grid_height=4,magnitude=4)"
      ],
      "metadata": {
        "id": "rTEWPWl5Q9qD"
      },
      "execution_count": null,
      "outputs": []
    },
    {
      "cell_type": "code",
      "source": [
        "p.sample(100)"
      ],
      "metadata": {
        "colab": {
          "base_uri": "https://localhost:8080/"
        },
        "id": "JzcoDFLwRAXu",
        "outputId": "3c3eec26-647d-431a-b44e-d350e01a6786"
      },
      "execution_count": null,
      "outputs": [
        {
          "output_type": "stream",
          "name": "stderr",
          "text": [
            "Processing <PIL.Image.Image image mode=RGB size=960x1280 at 0x7F087FAEBBD0>: 100%|██████████| 100/100 [00:12<00:00,  8.14 Samples/s]\n"
          ]
        }
      ]
    },
    {
      "cell_type": "code",
      "source": [
        "# !rm -rf /content/Images/output"
      ],
      "metadata": {
        "id": "rrvaxQn7RvVX"
      },
      "execution_count": null,
      "outputs": []
    },
    {
      "cell_type": "code",
      "source": [
        "!zip -r /content/Images.zip /content/Images/output"
      ],
      "metadata": {
        "colab": {
          "base_uri": "https://localhost:8080/"
        },
        "id": "Sup5PyhOfbew",
        "outputId": "c91ba158-ba9a-477b-8692-f5f596d055d2"
      },
      "execution_count": null,
      "outputs": [
        {
          "output_type": "stream",
          "name": "stdout",
          "text": [
            "  adding: content/Images/output/ (stored 0%)\n",
            "  adding: content/Images/output/Images_original_frame183.jpeg_2a1cdb63-4b2a-4ed2-a144-381ab6e5cbe3.jpeg (deflated 13%)\n",
            "  adding: content/Images/output/Images_original_frame261.jpeg_f0c7aca4-dd86-4561-a871-f1acc671a578.jpeg (deflated 22%)\n",
            "  adding: content/Images/output/Images_original_frame183.jpeg_f9d2d9c6-9e0e-4401-96fc-4bf07ef70c34.jpeg (deflated 11%)\n",
            "  adding: content/Images/output/Images_original_frame183.jpeg_511f0149-7aef-45a0-91f1-e40133ff04f6.jpeg (deflated 12%)\n",
            "  adding: content/Images/output/Images_original_frame183.jpeg_53e13944-d356-4dc2-9654-00eb0e42aa4d.jpeg (deflated 5%)\n",
            "  adding: content/Images/output/Images_original_frame182.jpeg_fc1b2f85-0532-4c8c-a6d8-52aa7ee463fd.jpeg (deflated 11%)\n",
            "  adding: content/Images/output/Images_original_frame182.jpeg_97b53de9-0d8d-4e5a-8ec5-087c1ca7cfd1.jpeg (deflated 10%)\n",
            "  adding: content/Images/output/Images_original_frame262.jpeg_2c731878-b9a4-4ace-b8c5-a0ff423164e3.jpeg (deflated 22%)\n",
            "  adding: content/Images/output/Images_original_frame262.jpeg_80ee50d6-9a7d-4d81-8161-7b10d2d17533.jpeg (deflated 27%)\n",
            "  adding: content/Images/output/Images_original_frame182.jpeg_b0682b4b-2ad2-435b-8f9c-8112c2489e0d.jpeg (deflated 8%)\n",
            "  adding: content/Images/output/Images_original_frame183.jpeg_ad22d747-4a26-4c65-b958-b0b859374e1e.jpeg (deflated 8%)\n",
            "  adding: content/Images/output/Images_original_frame261.jpeg_65c7e1e1-9d7f-4b55-a1ee-937c061609e9.jpeg (deflated 17%)\n",
            "  adding: content/Images/output/Images_original_frame262.jpeg_7de21370-d006-4475-a215-935d001b8868.jpeg (deflated 25%)\n",
            "  adding: content/Images/output/Images_original_frame183.jpeg_7854eb37-6639-4e2a-befc-f086b9f41e05.jpeg (deflated 12%)\n",
            "  adding: content/Images/output/Images_original_frame261.jpeg_e0eecf86-b444-4722-bda9-33c41890e790.jpeg (deflated 17%)\n",
            "  adding: content/Images/output/Images_original_frame182.jpeg_a513d91f-1d18-4557-8447-eb156b014eb8.jpeg (deflated 15%)\n",
            "  adding: content/Images/output/Images_original_frame183.jpeg_4163c890-6940-46f9-824c-bcca9b77a939.jpeg (deflated 12%)\n",
            "  adding: content/Images/output/Images_original_frame183.jpeg_95168f86-dbad-4b96-b789-196b9fb49a38.jpeg (deflated 12%)\n",
            "  adding: content/Images/output/Images_original_frame262.jpeg_54c8e68d-e2d8-46ec-8cfc-05172d120456.jpeg (deflated 22%)\n",
            "  adding: content/Images/output/Images_original_frame262.jpeg_232a2573-f3e3-4cc4-903a-4345f83b728b.jpeg (deflated 22%)\n",
            "  adding: content/Images/output/Images_original_frame262.jpeg_eee51efb-1417-4963-b7d0-b4dc0785998a.jpeg (deflated 28%)\n",
            "  adding: content/Images/output/Images_original_frame183.jpeg_4af1d8be-46e1-4401-87af-e2f99d12ab88.jpeg (deflated 10%)\n",
            "  adding: content/Images/output/Images_original_frame262.jpeg_54d555db-e91e-405d-89d9-1839e2512bb0.jpeg (deflated 29%)\n",
            "  adding: content/Images/output/Images_original_frame182.jpeg_7f91e0d6-cf00-4741-ac70-acca0a7f4886.jpeg (deflated 13%)\n",
            "  adding: content/Images/output/Images_original_frame182.jpeg_402f7fdf-2d2e-49ee-b48b-29c562958c51.jpeg (deflated 13%)\n",
            "  adding: content/Images/output/Images_original_frame261.jpeg_68b2debb-1e45-4371-a30b-07cdd125aba6.jpeg (deflated 22%)\n",
            "  adding: content/Images/output/Images_original_frame262.jpeg_0824db9a-3dba-4009-81bb-f58aca8b2e78.jpeg (deflated 29%)\n",
            "  adding: content/Images/output/Images_original_frame261.jpeg_977a1574-701b-4969-82af-dccba33ada4b.jpeg (deflated 28%)\n",
            "  adding: content/Images/output/Images_original_frame182.jpeg_d92be460-05e5-486f-ae7f-1e608b42dad9.jpeg (deflated 9%)\n",
            "  adding: content/Images/output/Images_original_frame183.jpeg_53c52a4c-78ee-4b3e-8da0-c4e23a81df14.jpeg (deflated 13%)\n",
            "  adding: content/Images/output/Images_original_frame261.jpeg_b485218c-df8b-4314-a928-0ca189858445.jpeg (deflated 22%)\n",
            "  adding: content/Images/output/Images_original_frame182.jpeg_6635b1ef-447d-42b0-9de4-c4ad2128e2ec.jpeg (deflated 8%)\n",
            "  adding: content/Images/output/Images_original_frame183.jpeg_fa3dc58a-7f95-4286-ae25-f0f0809d8ee9.jpeg (deflated 5%)\n",
            "  adding: content/Images/output/Images_original_frame183.jpeg_825a9958-0346-44ef-a512-e694bccecf5d.jpeg (deflated 8%)\n",
            "  adding: content/Images/output/Images_original_frame261.jpeg_9a65c8dc-e9e1-4f34-ad55-4fa745740bcf.jpeg (deflated 24%)\n",
            "  adding: content/Images/output/Images_original_frame262.jpeg_cf768deb-20f0-4ddf-addc-bf4ea2e30af6.jpeg (deflated 17%)\n",
            "  adding: content/Images/output/Images_original_frame261.jpeg_96d6285e-1ac5-4170-918b-3b2ba9c9d0d4.jpeg (deflated 27%)\n",
            "  adding: content/Images/output/Images_original_frame261.jpeg_e03e7ff8-0393-4fb8-95b0-17fa4c2be3fb.jpeg (deflated 30%)\n",
            "  adding: content/Images/output/Images_original_frame262.jpeg_6999fdb2-ce45-424d-b604-0200bf6e74a7.jpeg (deflated 21%)\n",
            "  adding: content/Images/output/Images_original_frame183.jpeg_649be232-9344-40ff-9266-7643c885abe4.jpeg (deflated 11%)\n",
            "  adding: content/Images/output/Images_original_frame262.jpeg_a546826a-0b68-47fb-982d-b420e07c995c.jpeg (deflated 26%)\n",
            "  adding: content/Images/output/Images_original_frame261.jpeg_5cd41ebb-b79b-45b8-aa6d-57f21b9a67b2.jpeg (deflated 17%)\n",
            "  adding: content/Images/output/Images_original_frame182.jpeg_5e47b798-f52b-48fb-a7ec-ac53cf4c4fe1.jpeg (deflated 10%)\n",
            "  adding: content/Images/output/Images_original_frame182.jpeg_78907821-8f59-45b3-885f-038469ddfb16.jpeg (deflated 12%)\n",
            "  adding: content/Images/output/Images_original_frame183.jpeg_c808d1e6-fc4e-404c-9306-d6739c680bdb.jpeg (deflated 6%)\n",
            "  adding: content/Images/output/Images_original_frame262.jpeg_cbab0171-0b04-4bec-9336-232713203d5e.jpeg (deflated 21%)\n",
            "  adding: content/Images/output/Images_original_frame183.jpeg_7da8aadf-293a-43ac-9663-0c5d4fea467b.jpeg (deflated 11%)\n",
            "  adding: content/Images/output/Images_original_frame182.jpeg_4a7cdef8-5103-4c4b-a748-13fdaf6b2438.jpeg (deflated 9%)\n",
            "  adding: content/Images/output/Images_original_frame183.jpeg_3f0d7cad-4473-402d-9965-31b34bb34873.jpeg (deflated 5%)\n",
            "  adding: content/Images/output/Images_original_frame183.jpeg_30d9a58c-6143-4a86-9298-314dd2aa65f5.jpeg (deflated 8%)\n",
            "  adding: content/Images/output/Images_original_frame182.jpeg_a60dc75a-95fc-4b84-98bb-65771578f8d0.jpeg (deflated 8%)\n",
            "  adding: content/Images/output/Images_original_frame262.jpeg_9434c6b0-cc07-45a2-b3fb-7bb050b07070.jpeg (deflated 27%)\n",
            "  adding: content/Images/output/Images_original_frame182.jpeg_d14905d2-36aa-497b-a667-161748b4f7dc.jpeg (deflated 6%)\n",
            "  adding: content/Images/output/Images_original_frame183.jpeg_49f02ef5-184c-4973-a2f4-53bed8b37274.jpeg (deflated 5%)\n",
            "  adding: content/Images/output/Images_original_frame261.jpeg_24fda490-c689-45a8-a95b-08f495ef861c.jpeg (deflated 24%)\n",
            "  adding: content/Images/output/Images_original_frame182.jpeg_15e883b8-1706-48ab-8dfb-95277d464805.jpeg (deflated 8%)\n",
            "  adding: content/Images/output/Images_original_frame262.jpeg_adf7aca2-3c12-4ba4-95c4-88cfbf319886.jpeg (deflated 23%)\n",
            "  adding: content/Images/output/Images_original_frame262.jpeg_53daa58d-7cb4-42ab-a42b-5b0947046bfb.jpeg (deflated 29%)\n",
            "  adding: content/Images/output/Images_original_frame183.jpeg_d014f968-3d1e-4ddf-a9e3-d93e3f396ffd.jpeg (deflated 9%)\n",
            "  adding: content/Images/output/Images_original_frame182.jpeg_30e74c6c-b9de-4064-9aa0-128eadae51b3.jpeg (deflated 11%)\n",
            "  adding: content/Images/output/Images_original_frame262.jpeg_08f351de-2ee1-480c-bff3-db7bde330411.jpeg (deflated 22%)\n",
            "  adding: content/Images/output/Images_original_frame182.jpeg_bc68e879-6c56-44e3-a511-f32239e80446.jpeg (deflated 9%)\n",
            "  adding: content/Images/output/Images_original_frame261.jpeg_68883655-7a6d-4753-b3ec-7766d5883cb7.jpeg (deflated 28%)\n",
            "  adding: content/Images/output/Images_original_frame262.jpeg_362f2cfa-fc0d-40f9-ac6e-2b34a913e00a.jpeg (deflated 22%)\n",
            "  adding: content/Images/output/Images_original_frame182.jpeg_3c42161f-a1cb-4983-a11b-46890f9f63ca.jpeg (deflated 11%)\n",
            "  adding: content/Images/output/Images_original_frame262.jpeg_3d9eae05-fcad-4382-8b73-2265f9ff6068.jpeg (deflated 22%)\n",
            "  adding: content/Images/output/Images_original_frame261.jpeg_707c5a4f-0481-40ca-b5c6-2783c5b5f693.jpeg (deflated 18%)\n",
            "  adding: content/Images/output/Images_original_frame182.jpeg_5cfbbdf2-4b1b-4b26-8042-56805558ed8e.jpeg (deflated 10%)\n",
            "  adding: content/Images/output/Images_original_frame261.jpeg_a1cf5102-71a3-4811-be45-aac0ea9f4184.jpeg (deflated 23%)\n",
            "  adding: content/Images/output/Images_original_frame183.jpeg_006ebeb6-56a1-492e-acc3-50a2015a2d75.jpeg (deflated 8%)\n",
            "  adding: content/Images/output/Images_original_frame261.jpeg_51b89b05-9473-4e92-9daf-99b9ee4096ca.jpeg (deflated 18%)\n",
            "  adding: content/Images/output/Images_original_frame262.jpeg_6fa7ebf0-fa6d-44fb-8df5-27b93dcb5634.jpeg (deflated 17%)\n",
            "  adding: content/Images/output/Images_original_frame261.jpeg_7c6306b7-0b00-4132-9c60-3da824808f5b.jpeg (deflated 22%)\n",
            "  adding: content/Images/output/Images_original_frame182.jpeg_dcd24683-46a8-44f6-af8b-ee39005dd295.jpeg (deflated 6%)\n",
            "  adding: content/Images/output/Images_original_frame183.jpeg_02a2d608-74e5-4708-9dbe-0b8de7a07031.jpeg (deflated 11%)\n",
            "  adding: content/Images/output/Images_original_frame261.jpeg_c57b2d36-35d4-4366-a216-6fff4c4faf49.jpeg (deflated 22%)\n",
            "  adding: content/Images/output/Images_original_frame262.jpeg_dab89976-6e03-4874-91f3-7b28ceb3eee8.jpeg (deflated 27%)\n",
            "  adding: content/Images/output/Images_original_frame261.jpeg_929d31ad-6715-46bb-9bb6-daf0343f9c34.jpeg (deflated 29%)\n",
            "  adding: content/Images/output/Images_original_frame261.jpeg_a5ec1a30-c14b-4e31-a29e-f6640443c065.jpeg (deflated 22%)\n",
            "  adding: content/Images/output/Images_original_frame183.jpeg_be8369e0-3929-409b-9807-6d2a65ce2b50.jpeg (deflated 6%)\n",
            "  adding: content/Images/output/Images_original_frame262.jpeg_c60d8dcd-34af-4a76-9dd0-efe81cea035d.jpeg (deflated 17%)\n",
            "  adding: content/Images/output/Images_original_frame183.jpeg_2d40863f-208d-44ba-81a5-86c8ede70e9e.jpeg (deflated 9%)\n",
            "  adding: content/Images/output/Images_original_frame183.jpeg_e093c68b-276e-4401-8d60-7791a20e0106.jpeg (deflated 13%)\n",
            "  adding: content/Images/output/Images_original_frame261.jpeg_c897503e-b5be-4851-926e-743aa1fa174d.jpeg (deflated 29%)\n",
            "  adding: content/Images/output/Images_original_frame183.jpeg_ded4d822-48ea-433e-867b-667204e0b254.jpeg (deflated 5%)\n",
            "  adding: content/Images/output/Images_original_frame262.jpeg_a5f2f119-6e6a-4d11-bf05-3f854f9e2acc.jpeg (deflated 17%)\n",
            "  adding: content/Images/output/Images_original_frame182.jpeg_c61ede57-5b4d-4134-9514-4a35c15d985f.jpeg (deflated 6%)\n",
            "  adding: content/Images/output/Images_original_frame262.jpeg_b6eaa5b4-7e20-4772-80f0-8eb3c1b5b0c3.jpeg (deflated 17%)\n",
            "  adding: content/Images/output/Images_original_frame262.jpeg_fa4286df-6ea5-4d35-a9c5-5eff850f3c09.jpeg (deflated 27%)\n",
            "  adding: content/Images/output/Images_original_frame183.jpeg_bf58adc1-9e09-49af-b988-c93e79c16756.jpeg (deflated 10%)\n",
            "  adding: content/Images/output/Images_original_frame262.jpeg_cae1f9f2-ebcd-4db3-b150-a9f4e6a179d2.jpeg (deflated 30%)\n",
            "  adding: content/Images/output/Images_original_frame182.jpeg_ffd608fd-bb68-47b8-b961-2a01c3fe549b.jpeg (deflated 13%)\n",
            "  adding: content/Images/output/Images_original_frame262.jpeg_434cd35d-86bb-49f1-b320-1523c86ff44f.jpeg (deflated 22%)\n",
            "  adding: content/Images/output/Images_original_frame262.jpeg_1bf2f101-d6e4-4fd5-80e8-22f70c733ea4.jpeg (deflated 24%)\n",
            "  adding: content/Images/output/Images_original_frame183.jpeg_e600c12e-3d93-483c-9f9d-49e022a7ed52.jpeg (deflated 12%)\n",
            "  adding: content/Images/output/Images_original_frame262.jpeg_2875897b-8f85-4361-9508-db0d91a6ddd5.jpeg (deflated 22%)\n",
            "  adding: content/Images/output/Images_original_frame261.jpeg_8c4a0c44-c026-44df-82f2-91e53b9fc60d.jpeg (deflated 26%)\n",
            "  adding: content/Images/output/Images_original_frame261.jpeg_e61e836c-2bda-4c93-aa25-0daa02fac15f.jpeg (deflated 22%)\n",
            "  adding: content/Images/output/Images_original_frame183.jpeg_ed57664b-cd5d-4612-aed7-b17413e47ebb.jpeg (deflated 12%)\n",
            "  adding: content/Images/output/Images_original_frame183.jpeg_9fa2f088-b70d-40f7-9baa-1b2bfbfe118c.jpeg (deflated 6%)\n"
          ]
        }
      ]
    }
  ]
}